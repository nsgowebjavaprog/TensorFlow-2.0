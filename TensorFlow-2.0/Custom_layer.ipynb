{
 "cells": [
  {
   "cell_type": "code",
   "execution_count": 1,
   "id": "ae80dbda",
   "metadata": {},
   "outputs": [],
   "source": [
    "import os\n",
    "\n",
    "import tensorflow as tf\n",
    "from tensorflow import keras\n",
    "from tensorflow.keras import layers, models\n",
    "from tensorflow.keras.datasets import mnist"
   ]
  },
  {
   "cell_type": "code",
   "execution_count": 2,
   "id": "f22bda40",
   "metadata": {},
   "outputs": [],
   "source": [
    "(x_train, y_train), (x_test, y_test) = mnist.load_data()\n",
    "\n",
    "x_train = x_train.reshape(-1, 28, 28, 1).astype('float32') / 255.0\n",
    "x_test = x_test.reshape(-1, 28, 28, 1).astype('float32') / 255.0"
   ]
  },
  {
   "cell_type": "code",
   "execution_count": 3,
   "id": "8275def6",
   "metadata": {},
   "outputs": [],
   "source": [
    "class MyModel(keras.Model):\n",
    "    def __init__(self, num_classes=10):\n",
    "        super(MyModel, self).__init__()\n",
    "        self.dense1 = layers.Dense(64)\n",
    "        self.dense2 = layers.Dense(num_classes)\n",
    "        \n",
    "    def call(self, input_tensor):\n",
    "        x = tf.nn.relu(self.dense1(input_tensor))\n",
    "        return self.dense2(x)"
   ]
  },
  {
   "cell_type": "code",
   "execution_count": null,
   "id": "34fdf3a9",
   "metadata": {},
   "outputs": [],
   "source": [
    "# Train the model\n",
    "model.fit(x_train, y_train, batch_size=32, epochs=1, verbose=2)\n",
    "\n",
    "# Evaluate the model\n",
    "model.evaluate(x_test, y_test, verbose=2)"
   ]
  },
  {
   "cell_type": "code",
   "execution_count": 7,
   "id": "76397eae",
   "metadata": {},
   "outputs": [
    {
     "name": "stdout",
     "output_type": "stream",
     "text": [
      "1875/1875 - 213s - 114ms/step - accuracy: 0.9081 - loss: 0.3029\n",
      "313/313 - 10s - 32ms/step - accuracy: 0.9576 - loss: 0.1429\n"
     ]
    },
    {
     "data": {
      "text/plain": [
       "[0.14291760325431824, 0.9575999975204468]"
      ]
     },
     "execution_count": 7,
     "metadata": {},
     "output_type": "execute_result"
    }
   ],
   "source": [
    "from tensorflow import keras\n",
    "from tensorflow.keras import layers\n",
    "import tensorflow as tf\n",
    "\n",
    "# Load the MNIST dataset\n",
    "(x_train, y_train), (x_test, y_test) = keras.datasets.mnist.load_data()\n",
    "\n",
    "# Reshape the input data to be of shape (batch_size, timesteps, features)\n",
    "x_train = x_train.reshape(-1, 28, 28).astype('float32')  # (60000, 28, 28)\n",
    "x_test = x_test.reshape(-1, 28, 28).astype('float32')    # (10000, 28, 28)\n",
    "\n",
    "# Normalize pixel values to be between 0 and 1\n",
    "x_train /= 255.0\n",
    "x_test /= 255.0\n",
    "\n",
    "# Define a custom model class using subclassing\n",
    "class MyModel(keras.Model):\n",
    "    def __init__(self, hidden_units):\n",
    "        super(MyModel, self).__init__()\n",
    "        # Define layers in the constructor\n",
    "        self.bidirectional_rnn_1 = layers.Bidirectional(layers.SimpleRNN(hidden_units, return_sequences=True, activation=\"relu\"))\n",
    "        self.bidirectional_rnn_2 = layers.Bidirectional(layers.SimpleRNN(hidden_units, activation=\"relu\"))\n",
    "        self.dense = layers.Dense(10)  # Output layer (10 classes for MNIST)\n",
    "\n",
    "    def call(self, inputs):\n",
    "        # Define the forward pass in the call method\n",
    "        x = self.bidirectional_rnn_1(inputs)\n",
    "        x = self.bidirectional_rnn_2(x)\n",
    "        return self.dense(x)\n",
    "\n",
    "# Create an instance of the model\n",
    "model = MyModel(512)\n",
    "\n",
    "# Compile the model\n",
    "model.compile(\n",
    "    loss=keras.losses.SparseCategoricalCrossentropy(from_logits=True),\n",
    "    optimizer=keras.optimizers.Adam(learning_rate=0.001),\n",
    "    metrics=[\"accuracy\"]\n",
    ")\n",
    "\n",
    "# Train the model\n",
    "model.fit(x_train, y_train, batch_size=32, epochs=1, verbose=2)\n",
    "\n",
    "# Evaluate the model\n",
    "model.evaluate(x_test, y_test, verbose=2)\n"
   ]
  }
 ],
 "metadata": {
  "kernelspec": {
   "display_name": "Python 3",
   "language": "python",
   "name": "python3"
  },
  "language_info": {
   "codemirror_mode": {
    "name": "ipython",
    "version": 3
   },
   "file_extension": ".py",
   "mimetype": "text/x-python",
   "name": "python",
   "nbconvert_exporter": "python",
   "pygments_lexer": "ipython3",
   "version": "3.12.7"
  }
 },
 "nbformat": 4,
 "nbformat_minor": 5
}
