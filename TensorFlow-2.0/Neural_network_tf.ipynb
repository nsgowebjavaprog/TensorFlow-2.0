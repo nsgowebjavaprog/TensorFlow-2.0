{
 "cells": [
  {
   "cell_type": "code",
   "execution_count": null,
   "id": "cf1a1411",
   "metadata": {},
   "outputs": [],
   "source": [
    "import os\n",
    "import tensorflow as tf\n",
    "\n",
    "os.environ['TF_CPP_MIN_LOG_LEVEL'] = '2'  # Suppress TensorFlow logging (1)\n",
    "\n",
    "from tensorflow import keras\n",
    "\n",
    "from tensorflow.keras import layers\n",
    "\n",
    "from tensorflow.keras.datasets import mnist"
   ]
  },
  {
   "cell_type": "code",
   "execution_count": 4,
   "id": "53912658",
   "metadata": {},
   "outputs": [
    {
     "name": "stdout",
     "output_type": "stream",
     "text": [
      "(60000, 28, 28)\n",
      "(60000,)\n"
     ]
    }
   ],
   "source": [
    "(x_train, y_train), (x_test, y_test) = mnist.load_data()\n",
    "\n",
    "print(x_train.shape)\n",
    "print(y_train.shape)"
   ]
  },
  {
   "cell_type": "code",
   "execution_count": null,
   "id": "cc84b27e",
   "metadata": {},
   "outputs": [],
   "source": [
    "x_train = x_train.reshape(-1, 28*28).astype(\"float32\") / 255.0  # 784\n",
    "\n",
    "x_test = x_test.reshape(-1, 28*28).astype(\"float32\") / 255.0  # 784\n",
    "\n",
    "#   x_train = tf.convert_to_tensor(x_train, dtype=tf.float32)\n",
    "#   x_test = tf.convert_to_tensor(x_test, dtype=tf.float32)"
   ]
  },
  {
   "cell_type": "code",
   "execution_count": null,
   "id": "5005bedf",
   "metadata": {},
   "outputs": [],
   "source": [
    "# Sequential -- API"
   ]
  },
  {
   "cell_type": "code",
   "execution_count": 16,
   "id": "f632c4b6",
   "metadata": {},
   "outputs": [
    {
     "name": "stdout",
     "output_type": "stream",
     "text": [
      "Epoch 1/5\n",
      "1875/1875 - 13s - 7ms/step - accuracy: 0.8269 - loss: 0.5710\n",
      "Epoch 2/5\n",
      "1875/1875 - 12s - 7ms/step - accuracy: 0.9161 - loss: 0.2834\n",
      "Epoch 3/5\n",
      "1875/1875 - 11s - 6ms/step - accuracy: 0.9373 - loss: 0.2113\n",
      "Epoch 4/5\n",
      "1875/1875 - 11s - 6ms/step - accuracy: 0.9510 - loss: 0.1640\n",
      "Epoch 5/5\n",
      "1875/1875 - 12s - 6ms/step - accuracy: 0.9613 - loss: 0.1322\n",
      "313/313 - 2s - 5ms/step - accuracy: 0.9631 - loss: 0.1253\n"
     ]
    },
    {
     "ename": "SystemExit",
     "evalue": "",
     "output_type": "error",
     "traceback": [
      "An exception has occurred, use %tb to see the full traceback.\n",
      "\u001b[1;31mSystemExit\u001b[0m\n"
     ]
    }
   ],
   "source": [
    "model = keras.Sequential([\n",
    "    keras.Input(shape=(28*28,)),  # 784\n",
    "    layers.Dense(512, activation='relu'),\n",
    "    layers.Dense(256, activation='relu'),\n",
    "    layers.Dense(10, activation='softmax')\n",
    "])\n",
    "\n",
    "model.compile(\n",
    "    loss = keras.losses.SparseCategoricalCrossentropy(from_logits=True),\n",
    "\n",
    "    optimizer = keras.optimizers.Adam(learning_rate=0.001),\n",
    "    \n",
    "    metrics = [\"accuracy\"]\n",
    "),\n",
    "\n",
    "model.fit(x_train, y_train, batch_size=32, epochs=5, verbose=2)\n",
    "model.evaluate(x_test, y_test, verbose=2)\n",
    "\n",
    "import sys\n",
    "sys.exit()"
   ]
  }
 ],
 "metadata": {
  "kernelspec": {
   "display_name": "Python 3",
   "language": "python",
   "name": "python3"
  },
  "language_info": {
   "codemirror_mode": {
    "name": "ipython",
    "version": 3
   },
   "file_extension": ".py",
   "mimetype": "text/x-python",
   "name": "python",
   "nbconvert_exporter": "python",
   "pygments_lexer": "ipython3",
   "version": "3.12.7"
  }
 },
 "nbformat": 4,
 "nbformat_minor": 5
}
